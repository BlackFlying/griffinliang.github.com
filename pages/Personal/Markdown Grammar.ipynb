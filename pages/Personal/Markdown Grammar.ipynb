{
 "cells": [
  {
   "cell_type": "markdown",
   "metadata": {},
   "source": [
    "Markdown-Cheatsheet\n",
    "https://github.com/adam-p/markdown-here/wiki/Markdown-Cheatsheet"
   ]
  },
  {
   "cell_type": "markdown",
   "metadata": {},
   "source": [
    "Headline 1\n",
    "==========\n",
    "Headline 2\n",
    "----------"
   ]
  },
  {
   "cell_type": "markdown",
   "metadata": {},
   "source": [
    "# Headline 1\n",
    "## Headline 2\n",
    "### Headline 3\n",
    "#### Headline 4\n",
    "##### Headline 5\n",
    "###### Headline 6"
   ]
  },
  {
   "cell_type": "markdown",
   "metadata": {},
   "source": [
    "Someofthesewords*areemphasized*.\n",
    "\n",
    "Someofthesewords_areemphasizedalso_.\n",
    "\n",
    "Usetwoasterisksfor**strongemphasis**.\n",
    "\n",
    "Or,ifyouprefer,__usetwounderscoresinstead__."
   ]
  },
  {
   "cell_type": "markdown",
   "metadata": {},
   "source": [
    "Default Color\n",
    "<font color='red'>Red Color</font>\n",
    "<font color='blue'>Blue Color</font>\n",
    "<font color='green'>Green Color</font>\n",
    "<font color='yellow'>Yellow Color</font>\n",
    "<font color='pink'>Pink Color</font>\n",
    "<font color='purple'>Purple Color</font>\n",
    "<font color='orange'>Orange Color</font>"
   ]
  },
  {
   "cell_type": "markdown",
   "metadata": {},
   "source": [
    "<font size='-2'>Small Size</font>\n",
    "Normal Size\n",
    "<font size='+2'>Big Size</font>\n",
    "<font size='+2' face='Times'>Time New Roman</font>"
   ]
  },
  {
   "cell_type": "markdown",
   "metadata": {},
   "source": [
    "引用\n",
    ">Thismoduleimplementsanumberofiteratorbuildingblocksinspiredby\n",
    "constructsfromAPL,Haskell,andSML.Eachhasbeenrecastinaformsuitable\n",
    "forPython.\n",
    "\n",
    ">Themodulestandardizesacoresetoffast,memoryefficienttoolsthatare\n",
    "usefulbythemselvesorincombination.Together,theyforman\"iterator\n",
    "algebra\"makingitpossibletoconstructspecializedtoolssuccinctlyand\n",
    "efficientlyinpurePython."
   ]
  },
  {
   "cell_type": "markdown",
   "metadata": {},
   "source": [
    "无序列表\n",
    "* Apple\n",
    "* Orange\n",
    "* Peach\n",
    "* Banana\n",
    "\n",
    "+ Apple\n",
    "+ Orange\n",
    "+ Peach\n",
    "+ Banana\n",
    "\n",
    "- Apple\n",
    "- Orange\n",
    "- Peach\n",
    "- Banana\n",
    "\n",
    "有序列表\n",
    "\n",
    "1. Apple\n",
    "2. Orange\n",
    "3. Peach\n",
    "4. Banana\n",
    "\n",
    "嵌套列表\n",
    "\n",
    "1. Fruit\n",
    " \n",
    " 1. Apple\n",
    "　\n",
    " 2. Orange\n",
    "\n",
    " 3. Peach\n",
    "\n",
    " 4. Banana\n",
    "\n",
    "2. Vegetable\n",
    " \n",
    "   + Potato\n",
    "\n",
    "   + Cabbage"
   ]
  },
  {
   "cell_type": "markdown",
   "metadata": {},
   "source": [
    "链接\n",
    "\n",
    "This is an [example link](http://example.com/).\n",
    "\n",
    "his is an [example link](http://example.com/ \"With a Title\").\n",
    "\n",
    "I get 10 times more traffic from [Google][1] than from\n",
    "[Yahoo][2] or [MSN][3].\n",
    "\n",
    "[1]: http://google.com/        \"Google\"\n",
    "[2]: http://search.yahoo.com/  \"Yahoo Search\"\n",
    "[3]: http://search.msn.com/    \"MSN Search\""
   ]
  },
  {
   "cell_type": "markdown",
   "metadata": {},
   "source": [
    "图片\n",
    "\n",
    "百度\n",
    "\n",
    "![额，图片不能显示了！](https://ss0.bdstatic.com/5aV1bjqh_Q23odCf/static/superman/img/logo/bd_logo1_31bdc765.png \"正弦和余弦\")\n",
    "\n",
    "Recurrent Neural Network\n",
    "\n",
    "<img src=\"http://colah.github.io/posts/2015-08-Understanding-LSTMs/img/RNN-rolled.png\" width = \"100\" height = \"50\" alt=\"图片名称\" align=center />"
   ]
  },
  {
   "cell_type": "markdown",
   "metadata": {},
   "source": [
    "代码\n",
    "\n",
    "```Python\n",
    "x = linspace(-pi, pi, 400)\n",
    "y1 = sin(x)\n",
    "y2 = cos(x)\n",
    "plot(x, y1, ‘r’, label=r’y=sinx’)\n",
    "plot(x, y2, ‘b’, label=r’y=cosx’)\n",
    "plot([-pi/2, -pi/2], [0, sin(-pi/2)], ‘r–‘)\n",
    "plot([pi/2, pi/2], [0, sin(pi/2)], ‘r–‘)\n",
    "xlim(-pi, pi)\n",
    "legend(loc=’upper left’)\n",
    "ax = gca()\n",
    "ax.spines[‘right’].set_color(‘none’)\n",
    "ax.spines[‘top’].set_color(‘none’)\n",
    "ax.xaxis.set_ticks_position(‘bottom’)\n",
    "ax.spines[‘bottom’].set_position((‘data’, 0))\n",
    "ax.yaxis.set_ticks_position(‘left’)\n",
    "ax.spines[‘left’].set_position((‘data’, 0))\n",
    "xticks([-pi, -pi/2, 0, pi/2, pi], [r'$-\\pi$', r'$-\\frac{\\pi}{2}$', 0, r'$\\frac{\\pi}{2}$', r'$\\pi$'])\n",
    "```"
   ]
  }
 ],
 "metadata": {
  "kernelspec": {
   "display_name": "Python 2",
   "language": "python",
   "name": "python2"
  },
  "language_info": {
   "codemirror_mode": {
    "name": "ipython",
    "version": 2
   },
   "file_extension": ".py",
   "mimetype": "text/x-python",
   "name": "python",
   "nbconvert_exporter": "python",
   "pygments_lexer": "ipython2",
   "version": "2.7.8"
  }
 },
 "nbformat": 4,
 "nbformat_minor": 0
}
